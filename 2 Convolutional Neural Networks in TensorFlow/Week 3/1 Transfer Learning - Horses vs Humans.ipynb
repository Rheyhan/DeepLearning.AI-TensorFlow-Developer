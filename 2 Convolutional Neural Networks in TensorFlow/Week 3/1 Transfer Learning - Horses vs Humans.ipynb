{
 "cells": [
  {
   "cell_type": "code",
   "execution_count": 1,
   "metadata": {},
   "outputs": [],
   "source": [
    "# grader-required-cell\n",
    "\n",
    "import os\n",
    "import zipfile\n",
    "import matplotlib.pyplot as plt\n",
    "import tensorflow as tf\n",
    "from tensorflow.keras import layers\n",
    "from tensorflow.keras import Model\n",
    "from tensorflow.keras.optimizers import RMSprop\n",
    "from tensorflow.keras.preprocessing.image import ImageDataGenerator\n",
    "from tensorflow.keras.utils import img_to_array, load_img"
   ]
  },
  {
   "cell_type": "code",
   "execution_count": null,
   "metadata": {},
   "outputs": [],
   "source": [
    "# grader-required-cell\n",
    "\n",
    "# Define the training and validation base directories\n",
    "train_dir = 'training'\n",
    "validation_dir = 'validation'\n",
    "\n",
    "# Directory with training horse pictures\n",
    "train_horses_dir = os.path.join(train_dir, 'horses')\n",
    "# Directory with training humans pictures\n",
    "train_humans_dir = os.path.join(train_dir, 'humans')\n",
    "# Directory with validation horse pictures\n",
    "validation_horses_dir = os.path.join(validation_dir, 'horses')\n",
    "# Directory with validation human pictures\n",
    "validation_humans_dir = os.path.join(validation_dir, 'humans')\n",
    "\n",
    "# Check the number of images for each class and set\n",
    "print(f\"There are {len(os.listdir(train_horses_dir))} images of horses for training.\\n\")\n",
    "print(f\"There are {len(os.listdir(train_humans_dir))} images of humans for training.\\n\")\n",
    "print(f\"There are {len(os.listdir(validation_horses_dir))} images of horses for validation.\\n\")\n",
    "print(f\"There are {len(os.listdir(validation_humans_dir))} images of humans for validation.\\n\")"
   ]
  }
 ],
 "metadata": {
  "kernelspec": {
   "display_name": "tf",
   "language": "python",
   "name": "python3"
  },
  "language_info": {
   "codemirror_mode": {
    "name": "ipython",
    "version": 3
   },
   "file_extension": ".py",
   "mimetype": "text/x-python",
   "name": "python",
   "nbconvert_exporter": "python",
   "pygments_lexer": "ipython3",
   "version": "3.9.18"
  }
 },
 "nbformat": 4,
 "nbformat_minor": 2
}
