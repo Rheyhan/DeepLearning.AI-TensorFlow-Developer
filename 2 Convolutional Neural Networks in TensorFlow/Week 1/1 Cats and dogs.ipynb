{
 "cells": [
  {
   "cell_type": "code",
   "execution_count": 1,
   "metadata": {},
   "outputs": [],
   "source": [
    "# grader-required-cell\n",
    "\n",
    "import os\n",
    "import zipfile\n",
    "import random\n",
    "import shutil\n",
    "import tensorflow as tf\n",
    "from tensorflow import keras\n",
    "from keras.preprocessing.image import ImageDataGenerator\n",
    "from shutil import copyfile\n",
    "import matplotlib.pyplot as plt"
   ]
  },
  {
   "cell_type": "code",
   "execution_count": 2,
   "metadata": {},
   "outputs": [],
   "source": [
    "source_path = 'PetImages/'"
   ]
  },
  {
   "cell_type": "code",
   "execution_count": 3,
   "metadata": {},
   "outputs": [],
   "source": [
    "# grader-required-cell\n",
    "\n",
    "# Define root directory\n",
    "root_dir = 'cats-v-dogs'\n",
    "\n",
    "# Empty directory to prevent FileExistsError is the function is run several times\n",
    "if os.path.exists(root_dir):\n",
    "  shutil.rmtree(root_dir)\n",
    "\n",
    "# GRADED FUNCTION: create_train_val_dirs\n",
    "def create_train_val_dirs(root_path):\n",
    "  \"\"\"\n",
    "  Creates directories for the train and test sets\n",
    "\n",
    "  Args:\n",
    "    root_path (string) - the base directory path to create subdirectories from\n",
    "\n",
    "  Returns:\n",
    "    None\n",
    "  \"\"\"\n",
    "  ### START CODE HERE\n",
    "  os.makedirs(f'{root_dir}/validation/cats', exist_ok=True)\n",
    "  os.makedirs(f'{root_dir}/validation/dogs', exist_ok=True)\n",
    "  os.makedirs(f'{root_dir}/training/cats', exist_ok=True)\n",
    "  os.makedirs(f'{root_dir}/training/dogs', exist_ok=True)\n",
    "  ### END CODE HERE\n",
    "\n",
    "\n",
    "try:\n",
    "  create_train_val_dirs(root_path=root_dir)\n",
    "except FileExistsError:\n",
    "  print(\"You should not be seeing this since the upper directory is removed beforehand\")"
   ]
  },
  {
   "cell_type": "code",
   "execution_count": 11,
   "metadata": {},
   "outputs": [
    {
     "name": "stdout",
     "output_type": "stream",
     "text": [
      "cats-v-dogs\\training\n",
      "cats-v-dogs\\validation\n",
      "cats-v-dogs\\training\\cats\n",
      "cats-v-dogs\\training\\dogs\n",
      "cats-v-dogs\\validation\\cats\n",
      "cats-v-dogs\\validation\\dogs\n"
     ]
    }
   ],
   "source": [
    "# grader-required-cell\n",
    "\n",
    "# Test your create_train_val_dirs function\n",
    "\n",
    "for rootdir, dirs, files in os.walk(root_dir):\n",
    "    for subdir in dirs:\n",
    "        print(os.path.join(rootdir, subdir))"
   ]
  },
  {
   "cell_type": "code",
   "execution_count": 13,
   "metadata": {},
   "outputs": [],
   "source": [
    "# grader-required-cell\n",
    "\n",
    "# GRADED FUNCTION: split_data\n",
    "def split_data(SOURCE_DIR, TRAINING_DIR, VALIDATION_DIR, SPLIT_SIZE):\n",
    "  \"\"\"\n",
    "  Splits the data into train and test sets\n",
    "\n",
    "  Args:\n",
    "    SOURCE_DIR (string): directory path containing the images\n",
    "    (string): directory path to be used for training\n",
    "    VALIDATION_DIR (string): directory path to be used for validation\n",
    "    SPLIT_SIZE (float): proportion of the dataset to be used for training\n",
    "\n",
    "  Returns:\n",
    "    None\n",
    "  \"\"\"  \n",
    "  z=os.listdir(SOURCE_DIR)\n",
    "  \n",
    "  for i in z:\n",
    "    try:\n",
    "      tf.keras.preprocessing.image.load_img(SOURCE_DIR+i)\n",
    "    except:\n",
    "      z.remove(i)\n",
    "      print(f'{i} is zero length, so ignoring.')\n",
    "      \n",
    "  valsize=round(len(os.listdir(SOURCE_DIR))*(1-SPLIT_SIZE)) \n",
    "  for i in range(valsize):\n",
    "      temp=random.choice(z); z.remove(temp)      \n",
    "      copyfile(SOURCE_DIR+temp, VALIDATION_DIR+temp) \n",
    "    \n",
    "  for i in z: copyfile(SOURCE_DIR+i, TRAINING_DIR+i)"
   ]
  },
  {
   "cell_type": "code",
   "execution_count": 14,
   "metadata": {},
   "outputs": [
    {
     "name": "stdout",
     "output_type": "stream",
     "text": [
      "666.jpg is zero length, so ignoring.\n",
      "11702.jpg is zero length, so ignoring.\n"
     ]
    },
    {
     "name": "stderr",
     "output_type": "stream",
     "text": [
      "c:\\Users\\Rhey\\miniconda3\\envs\\tf\\lib\\site-packages\\PIL\\TiffImagePlugin.py:858: UserWarning: Truncated File Read\n",
      "  warnings.warn(str(msg))\n"
     ]
    },
    {
     "name": "stdout",
     "output_type": "stream",
     "text": [
      "\n",
      "\n",
      "Original cat's directory has 12500 images\n",
      "Original dog's directory has 12500 images\n",
      "\n",
      "There are 11249 images of cats for training\n",
      "There are 11249 images of dogs for training\n",
      "There are 1250 images of cats for validation\n",
      "There are 1250 images of dogs for validation\n"
     ]
    }
   ],
   "source": [
    "# grader-required-cell\n",
    "\n",
    "# Test your split_data function\n",
    "\n",
    "# Define paths\n",
    "CAT_SOURCE_DIR = \"PetImages/Cat/\"\n",
    "DOG_SOURCE_DIR = \"PetImages/Dog/\"\n",
    "\n",
    "TRAINING_DIR = \"cats-v-dogs/training/\"\n",
    "VALIDATION_DIR = \"cats-v-dogs/validation/\"\n",
    "\n",
    "TRAINING_CATS_DIR = os.path.join(TRAINING_DIR, \"cats/\")\n",
    "VALIDATION_CATS_DIR = os.path.join(VALIDATION_DIR, \"cats/\")\n",
    "\n",
    "TRAINING_DOGS_DIR = os.path.join(TRAINING_DIR, \"dogs/\")\n",
    "VALIDATION_DOGS_DIR = os.path.join(VALIDATION_DIR, \"dogs/\")\n",
    "\n",
    "# Empty directories in case you run this cell multiple times\n",
    "if len(os.listdir(TRAINING_CATS_DIR)) > 0:\n",
    "  for file in os.scandir(TRAINING_CATS_DIR):\n",
    "    os.remove(file.path)\n",
    "if len(os.listdir(TRAINING_DOGS_DIR)) > 0:\n",
    "  for file in os.scandir(TRAINING_DOGS_DIR):\n",
    "    os.remove(file.path)\n",
    "if len(os.listdir(VALIDATION_CATS_DIR)) > 0:\n",
    "  for file in os.scandir(VALIDATION_CATS_DIR):\n",
    "    os.remove(file.path)\n",
    "if len(os.listdir(VALIDATION_DOGS_DIR)) > 0:\n",
    "  for file in os.scandir(VALIDATION_DOGS_DIR):\n",
    "    os.remove(file.path)\n",
    "\n",
    "# Define proportion of images used for training\n",
    "split_size = .9\n",
    "\n",
    "# Run the function\n",
    "# NOTE: Messages about zero length images should be printed out\n",
    "split_data(CAT_SOURCE_DIR, TRAINING_CATS_DIR, VALIDATION_CATS_DIR, split_size)\n",
    "split_data(DOG_SOURCE_DIR, TRAINING_DOGS_DIR, VALIDATION_DOGS_DIR, split_size)\n",
    "\n",
    "# Check that the number of images matches the expected output\n",
    "\n",
    "# Your function should perform copies rather than moving images so original directories should contain unchanged images\n",
    "print(f\"\\n\\nOriginal cat's directory has {len(os.listdir(CAT_SOURCE_DIR))} images\")\n",
    "print(f\"Original dog's directory has {len(os.listdir(DOG_SOURCE_DIR))} images\\n\")\n",
    "\n",
    "# Training and validation splits\n",
    "print(f\"There are {len(os.listdir(TRAINING_CATS_DIR))} images of cats for training\")\n",
    "print(f\"There are {len(os.listdir(TRAINING_DOGS_DIR))} images of dogs for training\")\n",
    "print(f\"There are {len(os.listdir(VALIDATION_CATS_DIR))} images of cats for validation\")\n",
    "print(f\"There are {len(os.listdir(VALIDATION_DOGS_DIR))} images of dogs for validation\")"
   ]
  },
  {
   "cell_type": "code",
   "execution_count": 15,
   "metadata": {},
   "outputs": [],
   "source": [
    "# grader-required-cell\n",
    "\n",
    "# GRADED FUNCTION: train_val_generators\n",
    "def train_val_generators(TRAINING_DIR, VALIDATION_DIR):\n",
    "  \"\"\"\n",
    "  Creates the training and validation data generators\n",
    "\n",
    "  Args:\n",
    "    TRAINING_DIR (string): directory path containing the training images\n",
    "    VALIDATION_DIR (string): directory path containing the testing/validation images\n",
    "\n",
    "  Returns:\n",
    "    train_generator, validation_generator - tuple containing the generators\n",
    "  \"\"\"\n",
    "  ### START CODE HERE\n",
    "\n",
    "  # Instantiate the ImageDataGenerator class (don't forget to set the rescale argument)\n",
    "  train_datagen = ImageDataGenerator(rescale=1./255)\n",
    "\n",
    "  # Pass in the appropriate arguments to the flow_from_directory method\n",
    "  train_generator = train_datagen.flow_from_directory(directory=TRAINING_DIR,\n",
    "                                                      batch_size=32,\n",
    "                                                      class_mode=\"binary\",\n",
    "                                                      target_size=(150, 150))\n",
    "\n",
    "  # Instantiate the ImageDataGenerator class (don't forget to set the rescale argument)\n",
    "  validation_datagen = ImageDataGenerator(rescale=1./255)\n",
    "\n",
    "  # Pass in the appropriate arguments to the flow_from_directory method\n",
    "  validation_generator = validation_datagen.flow_from_directory(directory=VALIDATION_DIR,\n",
    "                                                                batch_size=32,\n",
    "                                                                class_mode=\"binary\",\n",
    "                                                                target_size=(150, 150))\n",
    "  ### END CODE HERE\n",
    "  return train_generator, validation_generator"
   ]
  },
  {
   "cell_type": "code",
   "execution_count": 16,
   "metadata": {},
   "outputs": [
    {
     "name": "stdout",
     "output_type": "stream",
     "text": [
      "Found 22498 images belonging to 2 classes.\n",
      "Found 2500 images belonging to 2 classes.\n"
     ]
    }
   ],
   "source": [
    "# grader-required-cell\n",
    "\n",
    "# Test your generators\n",
    "train_generator, validation_generator = train_val_generators(TRAINING_DIR, VALIDATION_DIR)"
   ]
  },
  {
   "cell_type": "code",
   "execution_count": 26,
   "metadata": {},
   "outputs": [],
   "source": [
    "# grader-required-cell\n",
    "\n",
    "# GRADED FUNCTION: create_model\n",
    "def create_model():\n",
    "  # DEFINE A KERAS MODEL TO CLASSIFY CATS V DOGS\n",
    "  # USE AT LEAST 3 CONVOLUTION LAYERS\n",
    "\n",
    "  ### START CODE HERE\n",
    "\n",
    "  model = tf.keras.models.Sequential([\n",
    "    keras.layers.Conv2D(64, (3,3), activation=\"relu\", input_shape=(150,150, 3)),\n",
    "    keras.layers.MaxPool2D(),\n",
    "    \n",
    "    keras.layers.Conv2D(32, (3,3), activation=\"relu\"),\n",
    "    keras.layers.MaxPool2D(),\n",
    "    \n",
    "    keras.layers.Conv2D(16, (3,3), activation=\"relu\"),\n",
    "    keras.layers.MaxPool2D(),\n",
    "    \n",
    "    keras.layers.Flatten(),\n",
    "    keras.layers.Dense(16, \"relu\"),\n",
    "    keras.layers.Dense(8, \"relu\"),\n",
    "    \n",
    "    keras.layers.Dense(1, \"sigmoid\"),\n",
    "  ])\n",
    "\n",
    "\n",
    "  model.compile(optimizer=keras.optimizers.Adam(),\n",
    "                loss=keras.losses.BinaryCrossentropy(),\n",
    "                metrics=['accuracy'])\n",
    "\n",
    "  ### END CODE HERE\n",
    "\n",
    "  return model"
   ]
  },
  {
   "cell_type": "code",
   "execution_count": 28,
   "metadata": {},
   "outputs": [
    {
     "name": "stdout",
     "output_type": "stream",
     "text": [
      "Epoch 1/15\n",
      "704/704 [==============================] - 88s 124ms/step - loss: 0.6278 - accuracy: 0.6337 - val_loss: 0.5668 - val_accuracy: 0.7220\n",
      "Epoch 2/15\n",
      "704/704 [==============================] - 82s 116ms/step - loss: 0.5182 - accuracy: 0.7443 - val_loss: 0.4841 - val_accuracy: 0.7664\n",
      "Epoch 3/15\n",
      "704/704 [==============================] - 73s 104ms/step - loss: 0.4500 - accuracy: 0.7895 - val_loss: 0.4593 - val_accuracy: 0.7852\n",
      "Epoch 4/15\n",
      "704/704 [==============================] - 68s 97ms/step - loss: 0.4114 - accuracy: 0.8133 - val_loss: 0.4169 - val_accuracy: 0.8072\n",
      "Epoch 5/15\n",
      "704/704 [==============================] - 61s 87ms/step - loss: 0.3772 - accuracy: 0.8287 - val_loss: 0.4104 - val_accuracy: 0.8232\n",
      "Epoch 6/15\n",
      "704/704 [==============================] - 61s 87ms/step - loss: 0.3410 - accuracy: 0.8503 - val_loss: 0.4078 - val_accuracy: 0.8184\n",
      "Epoch 7/15\n",
      "704/704 [==============================] - 61s 87ms/step - loss: 0.3162 - accuracy: 0.8592 - val_loss: 0.4580 - val_accuracy: 0.8040\n",
      "Epoch 8/15\n",
      "704/704 [==============================] - 60s 86ms/step - loss: 0.2794 - accuracy: 0.8799 - val_loss: 0.4124 - val_accuracy: 0.8212\n",
      "Epoch 9/15\n",
      "704/704 [==============================] - 60s 86ms/step - loss: 0.2543 - accuracy: 0.8927 - val_loss: 0.4381 - val_accuracy: 0.8136\n",
      "Epoch 10/15\n",
      "704/704 [==============================] - 60s 86ms/step - loss: 0.2227 - accuracy: 0.9066 - val_loss: 0.4832 - val_accuracy: 0.8104\n",
      "Epoch 11/15\n",
      "704/704 [==============================] - 60s 85ms/step - loss: 0.1973 - accuracy: 0.9156 - val_loss: 0.4893 - val_accuracy: 0.8108\n",
      "Epoch 12/15\n",
      "704/704 [==============================] - 60s 85ms/step - loss: 0.1714 - accuracy: 0.9282 - val_loss: 0.5799 - val_accuracy: 0.8108\n",
      "Epoch 13/15\n",
      "704/704 [==============================] - 61s 86ms/step - loss: 0.1545 - accuracy: 0.9372 - val_loss: 0.5605 - val_accuracy: 0.8096\n",
      "Epoch 14/15\n",
      "704/704 [==============================] - 60s 86ms/step - loss: 0.1414 - accuracy: 0.9430 - val_loss: 0.6205 - val_accuracy: 0.8092\n",
      "Epoch 15/15\n",
      "704/704 [==============================] - 60s 86ms/step - loss: 0.1201 - accuracy: 0.9531 - val_loss: 0.6683 - val_accuracy: 0.8012\n"
     ]
    }
   ],
   "source": [
    "# Get the untrained model\n",
    "model = create_model()\n",
    "\n",
    "# Train the model\n",
    "# Note that this may take some time.\n",
    "history = model.fit(train_generator,\n",
    "                    epochs=15,\n",
    "                    verbose=1,\n",
    "                    validation_data=validation_generator)"
   ]
  },
  {
   "cell_type": "code",
   "execution_count": 29,
   "metadata": {},
   "outputs": [
    {
     "data": {
      "image/png": "[encoded data removed]",
      "text/plain": [
       "<Figure size 640x480 with 1 Axes>"
      ]
     },
     "metadata": {},
     "output_type": "display_data"
    },
    {
     "name": "stdout",
     "output_type": "stream",
     "text": [
      "\n"
     ]
    },
    {
     "data": {
      "image/png": "[encoded data removed]",
      "text/plain": [
       "<Figure size 640x480 with 1 Axes>"
      ]
     },
     "metadata": {},
     "output_type": "display_data"
    }
   ],
   "source": [
    "#-----------------------------------------------------------\n",
    "# Retrieve a list of list results on training and test data\n",
    "# sets for each training epoch\n",
    "#-----------------------------------------------------------\n",
    "acc=history.history['accuracy']\n",
    "val_acc=history.history['val_accuracy']\n",
    "loss=history.history['loss']\n",
    "val_loss=history.history['val_loss']\n",
    "\n",
    "epochs=range(len(acc)) # Get number of epochs\n",
    "\n",
    "#------------------------------------------------\n",
    "# Plot training and validation accuracy per epoch\n",
    "#------------------------------------------------\n",
    "plt.plot(epochs, acc, 'r', \"Training Accuracy\")\n",
    "plt.plot(epochs, val_acc, 'b', \"Validation Accuracy\")\n",
    "plt.title('Training and validation accuracy')\n",
    "plt.show()\n",
    "print(\"\")\n",
    "\n",
    "#------------------------------------------------\n",
    "# Plot training and validation loss per epoch\n",
    "#------------------------------------------------\n",
    "plt.plot(epochs, loss, 'r', \"Training Loss\")\n",
    "plt.plot(epochs, val_loss, 'b', \"Validation Loss\")\n",
    "plt.show()"
   ]
  },
  {
   "cell_type": "code",
   "execution_count": 31,
   "metadata": {},
   "outputs": [],
   "source": [
    "def download_history():\n",
    "  import pickle\n",
    "  \n",
    "  with open('history.pkl', 'wb') as f:\n",
    "    pickle.dump(history.history, f)\n",
    "\n",
    "download_history()"
   ]
  }
 ],
 "metadata": {
  "kernelspec": {
   "display_name": "tf",
   "language": "python",
   "name": "python3"
  },
  "language_info": {
   "codemirror_mode": {
    "name": "ipython",
    "version": 3
   },
   "file_extension": ".py",
   "mimetype": "text/x-python",
   "name": "python",
   "nbconvert_exporter": "python",
   "pygments_lexer": "ipython3",
   "version": "3.9.18"
  }
 },
 "nbformat": 4,
 "nbformat_minor": 2
}
