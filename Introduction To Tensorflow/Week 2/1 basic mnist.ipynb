{
 "cells": [
  {
   "cell_type": "markdown",
   "metadata": {},
   "source": [
    "# A very basic MNIST Fashion dataset model!"
   ]
  },
  {
   "cell_type": "code",
   "execution_count": 24,
   "metadata": {},
   "outputs": [],
   "source": [
    "import tensorflow as tf\n",
    "from tensorflow import keras\n",
    "import numpy as np"
   ]
  },
  {
   "cell_type": "code",
   "execution_count": 87,
   "metadata": {},
   "outputs": [],
   "source": [
    "#const\n",
    "AUTOTUNE = tf.data.AUTOTUNE\n",
    "IMG_HEIGHT = 28\n",
    "IMG_WIDTH = 28\n",
    "BATCH_SIZE = 32\n",
    "\n",
    "#data\n",
    "train_ds= tf.data.Dataset.from_tensor_slices(tf.keras.datasets.fashion_mnist.load_data()[0]).cache().batch(BATCH_SIZE).prefetch(AUTOTUNE)\n",
    "val_ds= tf.data.Dataset.from_tensor_slices(tf.keras.datasets.fashion_mnist.load_data()[1]).cache().batch(BATCH_SIZE).prefetch(AUTOTUNE)"
   ]
  },
  {
   "cell_type": "code",
   "execution_count": 88,
   "metadata": {},
   "outputs": [],
   "source": [
    "# Normalization layer\n",
    "Normalization_layer=keras.Sequential([keras.layers.Rescaling(1./255)])"
   ]
  },
  {
   "cell_type": "code",
   "execution_count": 95,
   "metadata": {},
   "outputs": [],
   "source": [
    "def get_model():\n",
    "    model=keras.Sequential([\n",
    "        \n",
    "        keras.layers.InputLayer(input_shape=(IMG_HEIGHT, IMG_WIDTH)),\n",
    "        Normalization_layer,\n",
    "        keras.layers.Flatten(),\n",
    "        \n",
    "        keras.layers.Dense(128, \"relu\"),\n",
    "        keras.layers.Dense(64, \"relu\"),\n",
    "        \n",
    "        keras.layers.Dense(10),\n",
    "    ])\n",
    "    model.compile(\"adam\", loss=keras.losses.SparseCategoricalCrossentropy(from_logits=True), metrics=\"acc\")\n",
    "    \n",
    "    return model"
   ]
  },
  {
   "cell_type": "code",
   "execution_count": 96,
   "metadata": {},
   "outputs": [
    {
     "name": "stdout",
     "output_type": "stream",
     "text": [
      "1875/1875 [==============================] - 9s 4ms/step - loss: 0.4934 - acc: 0.8232 - val_loss: 0.4309 - val_acc: 0.8473\n"
     ]
    },
    {
     "data": {
      "text/plain": [
       "<keras.src.callbacks.History at 0x202d6370190>"
      ]
     },
     "execution_count": 96,
     "metadata": {},
     "output_type": "execute_result"
    }
   ],
   "source": [
    "model = get_model()\n",
    "model.fit(train_ds, validation_data=val_ds)"
   ]
  }
 ],
 "metadata": {
  "kernelspec": {
   "display_name": "Python 3",
   "language": "python",
   "name": "python3"
  },
  "language_info": {
   "codemirror_mode": {
    "name": "ipython",
    "version": 3
   },
   "file_extension": ".py",
   "mimetype": "text/x-python",
   "name": "python",
   "nbconvert_exporter": "python",
   "pygments_lexer": "ipython3",
   "version": "3.11.8"
  }
 },
 "nbformat": 4,
 "nbformat_minor": 2
}
